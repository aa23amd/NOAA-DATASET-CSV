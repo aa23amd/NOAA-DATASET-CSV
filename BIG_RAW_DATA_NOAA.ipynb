{
  "nbformat": 4,
  "nbformat_minor": 0,
  "metadata": {
    "colab": {
      "provenance": [],
      "authorship_tag": "ABX9TyNNiMAugkpF3oLx6PtXuAxg",
      "include_colab_link": true
    },
    "kernelspec": {
      "name": "python3",
      "display_name": "Python 3"
    },
    "language_info": {
      "name": "python"
    }
  },
  "cells": [
    {
      "cell_type": "markdown",
      "metadata": {
        "id": "view-in-github",
        "colab_type": "text"
      },
      "source": [
        "<a href=\"https://colab.research.google.com/github/aa23amd/NOAA-DATASET-CSV/blob/main/BIG_RAW_DATA_NOAA.ipynb\" target=\"_parent\"><img src=\"https://colab.research.google.com/assets/colab-badge.svg\" alt=\"Open In Colab\"/></a>"
      ]
    },
    {
      "cell_type": "code",
      "source": [
        "import requests\n",
        "import pandas as pd\n",
        "from datetime import datetime, timedelta\n",
        "\n",
        "# NOAA API token and parameters (replace with your actual token)\n",
        "API_TOKEN = 'meMJNjoRWdehUATKDiEJKsGcmCjJaUtN'\n",
        "DATASET_ID = 'GHCND'          # Daily Summaries dataset\n",
        "LOCATION_ID = 'FIPS:37'       # Example: North Carolina (adjust as needed)\n",
        "\n",
        "# Define the overall date range (nearly 11 months)\n",
        "overall_start = datetime(2021, 1, 1)\n",
        "overall_end = datetime(2021, 11, 30)\n",
        "\n",
        "# We'll break the overall period into 30-day intervals.\n",
        "INTERVAL_DAYS = 30\n",
        "LIMIT = 1000  # Maximum records per request (pagination limit)\n"
      ],
      "metadata": {
        "id": "jmI3d5qGmk6L"
      },
      "execution_count": 5,
      "outputs": []
    },
    {
      "cell_type": "code",
      "source": [
        "def fetch_noaa_data(start_date, end_date, dataset_id, location_id, token, limit=LIMIT):\n",
        "    \"\"\"\n",
        "    Fetch NOAA data for a given date range and handle pagination.\n",
        "    Returns a list of record dictionaries.\n",
        "    \"\"\"\n",
        "    all_results = []\n",
        "    offset = 1  # NOAA API offset is 1-indexed\n",
        "    url = 'https://www.ncdc.noaa.gov/cdo-web/api/v2/data'\n",
        "    headers = {'token': token}\n",
        "\n",
        "    while True:\n",
        "        params = {\n",
        "            'datasetid': dataset_id,\n",
        "            'locationid': location_id,\n",
        "            'startdate': start_date.strftime('%Y-%m-%d'),\n",
        "            'enddate': end_date.strftime('%Y-%m-%d'),\n",
        "            'limit': limit,\n",
        "            'offset': offset\n",
        "        }\n",
        "        response = requests.get(url, headers=headers, params=params)\n",
        "\n",
        "        if response.status_code != 200:\n",
        "            print(f\"Error: {response.status_code} for {start_date.date()} to {end_date.date()} (offset: {offset})\")\n",
        "            break\n",
        "\n",
        "        data = response.json()\n",
        "        results = data.get('results', [])\n",
        "        if not results:\n",
        "            break\n",
        "\n",
        "        all_results.extend(results)\n",
        "\n",
        "        # If fewer records than limit are returned, this interval is done.\n",
        "        if len(results) < limit:\n",
        "            break\n",
        "        else:\n",
        "            offset += limit\n",
        "\n",
        "    return all_results\n"
      ],
      "metadata": {
        "id": "SuSRX_gDmp1A"
      },
      "execution_count": 6,
      "outputs": []
    },
    {
      "cell_type": "code",
      "source": [
        "all_data = []\n",
        "current_start = overall_start\n",
        "\n",
        "while current_start <= overall_end:\n",
        "    current_end = min(current_start + timedelta(days=INTERVAL_DAYS - 1), overall_end)\n",
        "\n",
        "    print(f\"Fetching data from {current_start.date()} to {current_end.date()} ...\")\n",
        "    interval_data = fetch_noaa_data(current_start, current_end, DATASET_ID, LOCATION_ID, API_TOKEN)\n",
        "    print(f\"Records fetched in this interval: {len(interval_data)}\")\n",
        "\n",
        "    all_data.extend(interval_data)\n",
        "    current_start = current_end + timedelta(days=1)\n",
        "\n",
        "print(f\"Total records collected: {len(all_data)}\")\n"
      ],
      "metadata": {
        "colab": {
          "base_uri": "https://localhost:8080/"
        },
        "id": "m1_dakvdmuvS",
        "outputId": "cd1f9e5d-cad1-4a92-88f6-4e33fae91db6"
      },
      "execution_count": 8,
      "outputs": [
        {
          "output_type": "stream",
          "name": "stdout",
          "text": [
            "Fetching data from 2021-01-01 to 2021-01-30 ...\n",
            "Error: 503 for 2021-01-01 to 2021-01-30 (offset: 22001)\n",
            "Records fetched in this interval: 22000\n",
            "Fetching data from 2021-01-31 to 2021-03-01 ...\n",
            "Error: 503 for 2021-01-31 to 2021-03-01 (offset: 24001)\n",
            "Records fetched in this interval: 24000\n",
            "Fetching data from 2021-03-02 to 2021-03-31 ...\n",
            "Error: 503 for 2021-03-02 to 2021-03-31 (offset: 7001)\n",
            "Records fetched in this interval: 7000\n",
            "Fetching data from 2021-04-01 to 2021-04-30 ...\n",
            "Error: 502 for 2021-04-01 to 2021-04-30 (offset: 17001)\n",
            "Records fetched in this interval: 17000\n",
            "Fetching data from 2021-05-01 to 2021-05-30 ...\n",
            "Error: 503 for 2021-05-01 to 2021-05-30 (offset: 9001)\n",
            "Records fetched in this interval: 9000\n",
            "Fetching data from 2021-05-31 to 2021-06-29 ...\n",
            "Error: 503 for 2021-05-31 to 2021-06-29 (offset: 20001)\n",
            "Records fetched in this interval: 20000\n",
            "Fetching data from 2021-06-30 to 2021-07-29 ...\n",
            "Error: 503 for 2021-06-30 to 2021-07-29 (offset: 41001)\n",
            "Records fetched in this interval: 41000\n",
            "Fetching data from 2021-07-30 to 2021-08-28 ...\n",
            "Error: 503 for 2021-07-30 to 2021-08-28 (offset: 10001)\n",
            "Records fetched in this interval: 10000\n",
            "Fetching data from 2021-08-29 to 2021-09-27 ...\n",
            "Error: 503 for 2021-08-29 to 2021-09-27 (offset: 2001)\n",
            "Records fetched in this interval: 2000\n",
            "Fetching data from 2021-09-28 to 2021-10-27 ...\n",
            "Error: 503 for 2021-09-28 to 2021-10-27 (offset: 55001)\n",
            "Records fetched in this interval: 55000\n",
            "Fetching data from 2021-10-28 to 2021-11-26 ...\n",
            "Records fetched in this interval: 70963\n",
            "Fetching data from 2021-11-27 to 2021-11-30 ...\n",
            "Records fetched in this interval: 9745\n",
            "Total records collected: 287708\n"
          ]
        }
      ]
    },
    {
      "cell_type": "code",
      "source": [
        "# Convert the collected data into a DataFrame\n",
        "raw_df = pd.DataFrame(all_data)\n",
        "print(\"Raw DataFrame shape:\", raw_df.shape)\n",
        "print(raw_df.head())\n",
        "\n",
        "# Save the raw data to a CSV file in the Colab environment\n",
        "raw_csv_filename = 'raw_noaa_data_large.csv'\n",
        "raw_df.to_csv(raw_csv_filename, index=False)\n",
        "print(f\"Raw data saved as '{raw_csv_filename}'\")\n"
      ],
      "metadata": {
        "colab": {
          "base_uri": "https://localhost:8080/"
        },
        "id": "IcXwORtqxSLy",
        "outputId": "5f70cc55-4eaa-4bbf-a2c1-4138089b6cde"
      },
      "execution_count": 9,
      "outputs": [
        {
          "output_type": "stream",
          "name": "stdout",
          "text": [
            "Raw DataFrame shape: (287708, 5)\n",
            "                  date datatype            station attributes  value\n",
            "0  2021-01-01T00:00:00     PRCP  GHCND:US1NCAG0005   ,,N,0700     15\n",
            "1  2021-01-01T00:00:00     PRCP  GHCND:US1NCAG0007   ,,N,0700     10\n",
            "2  2021-01-01T00:00:00     PRCP  GHCND:US1NCAL0014   ,,N,0900     13\n",
            "3  2021-01-01T00:00:00     PRCP  GHCND:US1NCAL0036   ,,N,0800      5\n",
            "4  2021-01-01T00:00:00     PRCP  GHCND:US1NCAL0038   ,,N,0700     10\n",
            "Raw data saved as 'raw_noaa_data_large.csv'\n"
          ]
        }
      ]
    },
    {
      "cell_type": "code",
      "source": [
        "from google.colab import files\n",
        "files.download(raw_csv_filename)\n"
      ],
      "metadata": {
        "colab": {
          "base_uri": "https://localhost:8080/",
          "height": 17
        },
        "id": "drIQduoGxY2C",
        "outputId": "75495c30-dca3-4e82-a157-1bd75f797202"
      },
      "execution_count": 10,
      "outputs": [
        {
          "output_type": "display_data",
          "data": {
            "text/plain": [
              "<IPython.core.display.Javascript object>"
            ],
            "application/javascript": [
              "\n",
              "    async function download(id, filename, size) {\n",
              "      if (!google.colab.kernel.accessAllowed) {\n",
              "        return;\n",
              "      }\n",
              "      const div = document.createElement('div');\n",
              "      const label = document.createElement('label');\n",
              "      label.textContent = `Downloading \"${filename}\": `;\n",
              "      div.appendChild(label);\n",
              "      const progress = document.createElement('progress');\n",
              "      progress.max = size;\n",
              "      div.appendChild(progress);\n",
              "      document.body.appendChild(div);\n",
              "\n",
              "      const buffers = [];\n",
              "      let downloaded = 0;\n",
              "\n",
              "      const channel = await google.colab.kernel.comms.open(id);\n",
              "      // Send a message to notify the kernel that we're ready.\n",
              "      channel.send({})\n",
              "\n",
              "      for await (const message of channel.messages) {\n",
              "        // Send a message to notify the kernel that we're ready.\n",
              "        channel.send({})\n",
              "        if (message.buffers) {\n",
              "          for (const buffer of message.buffers) {\n",
              "            buffers.push(buffer);\n",
              "            downloaded += buffer.byteLength;\n",
              "            progress.value = downloaded;\n",
              "          }\n",
              "        }\n",
              "      }\n",
              "      const blob = new Blob(buffers, {type: 'application/binary'});\n",
              "      const a = document.createElement('a');\n",
              "      a.href = window.URL.createObjectURL(blob);\n",
              "      a.download = filename;\n",
              "      div.appendChild(a);\n",
              "      a.click();\n",
              "      div.remove();\n",
              "    }\n",
              "  "
            ]
          },
          "metadata": {}
        },
        {
          "output_type": "display_data",
          "data": {
            "text/plain": [
              "<IPython.core.display.Javascript object>"
            ],
            "application/javascript": [
              "download(\"download_04772e66-c067-49af-b8f7-da428953da62\", \"raw_noaa_data_large.csv\", 16105938)"
            ]
          },
          "metadata": {}
        }
      ]
    }
  ]
}