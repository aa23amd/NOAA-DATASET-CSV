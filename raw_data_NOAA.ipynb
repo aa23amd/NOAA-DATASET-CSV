{
  "nbformat": 4,
  "nbformat_minor": 0,
  "metadata": {
    "colab": {
      "provenance": [],
      "authorship_tag": "ABX9TyPVksa12+PqfED9JM4WCvzJ",
      "include_colab_link": true
    },
    "kernelspec": {
      "name": "python3",
      "display_name": "Python 3"
    },
    "language_info": {
      "name": "python"
    }
  },
  "cells": [
    {
      "cell_type": "markdown",
      "metadata": {
        "id": "view-in-github",
        "colab_type": "text"
      },
      "source": [
        "<a href=\"https://colab.research.google.com/github/aa23amd/NOAA-DATASET-CSV/blob/main/raw_data_NOAA.ipynb\" target=\"_parent\"><img src=\"https://colab.research.google.com/assets/colab-badge.svg\" alt=\"Open In Colab\"/></a>"
      ]
    },
    {
      "cell_type": "code",
      "execution_count": 13,
      "metadata": {
        "colab": {
          "base_uri": "https://localhost:8080/"
        },
        "id": "GgkcwgVq-0Bk",
        "outputId": "f44b5f41-39f5-4d59-f84e-d64bd6ad3dbf"
      },
      "outputs": [
        {
          "output_type": "stream",
          "name": "stdout",
          "text": [
            "Data retrieved successfully!\n"
          ]
        }
      ],
      "source": [
        "import requests\n",
        "import pandas as pd\n",
        "\n",
        "# NOAA API endpoint and your API token (replace with your token)\n",
        "url = 'https://www.ncdc.noaa.gov/cdo-web/api/v2/data'\n",
        "headers = {'token': 'meMJNjoRWdehUATKDiEJKsGcmCjJaUtN'}  # Replace with your actual token\n",
        "\n",
        "# Define query parameters for a date range of less than one year\n",
        "params = {\n",
        "    'datasetid': 'GHCND',            # Daily Summaries dataset\n",
        "    'locationid': 'FIPS:37',         # Example: North Carolina (change as needed)\n",
        "    'startdate': '2022-01-01',       # Start date\n",
        "    'enddate': '2022-06-30',         # End date (must be less than one year)\n",
        "    'limit': 1000                    # Number of records per request\n",
        "}\n",
        "\n",
        "# Make the GET request to NOAA API\n",
        "response = requests.get(url, headers=headers, params=params)\n",
        "\n",
        "# Check if the request was successful\n",
        "if response.status_code == 200:\n",
        "    data = response.json()\n",
        "    # Retrieve the records (assuming they're under the 'results' key)\n",
        "    all_data = data.get('results', [])\n",
        "    if not all_data:\n",
        "        print(\"No data retrieved. Please check your parameters.\")\n",
        "    else:\n",
        "        print(\"Data retrieved successfully!\")\n",
        "else:\n",
        "    print(\"Error:\", response.status_code, response.text)\n"
      ]
    },
    {
      "cell_type": "code",
      "source": [
        "# Convert the JSON data (stored in all_data) to a DataFrame\n",
        "df = pd.DataFrame(all_data)\n",
        "print(\"DataFrame created successfully!\")\n",
        "print(df.head())\n"
      ],
      "metadata": {
        "colab": {
          "base_uri": "https://localhost:8080/"
        },
        "id": "5KOUdjUBCxIR",
        "outputId": "9462e9b2-71f7-413d-e5ad-a38a783c2575"
      },
      "execution_count": 14,
      "outputs": [
        {
          "output_type": "stream",
          "name": "stdout",
          "text": [
            "DataFrame created successfully!\n",
            "                  date datatype            station attributes  value\n",
            "0  2022-01-01T00:00:00     PRCP  GHCND:US1NCAG0001   ,,N,0738      3\n",
            "1  2022-01-01T00:00:00     SNOW  GHCND:US1NCAG0001   ,,N,0738      0\n",
            "2  2022-01-01T00:00:00     WESD  GHCND:US1NCAG0001   ,,N,0738      0\n",
            "3  2022-01-01T00:00:00     WESF  GHCND:US1NCAG0001   ,,N,0738      0\n",
            "4  2022-01-01T00:00:00     PRCP  GHCND:US1NCAG0005   ,,N,0700      8\n"
          ]
        }
      ]
    },
    {
      "cell_type": "code",
      "source": [
        "# Save raw data as CSV\n",
        "df.to_csv('raw_noaa_data.csv', index=False)\n",
        "\n",
        "# Alternatively, save as a pickle file for faster loading later\n",
        "df.to_pickle('raw_noaa_data.pkl')\n"
      ],
      "metadata": {
        "id": "tXaj6HieEzO9"
      },
      "execution_count": 16,
      "outputs": []
    },
    {
      "cell_type": "code",
      "source": [
        "# Save the raw data as a CSV file\n",
        "df.to_csv('raw_noaa_data.csv', index=False)\n",
        "print(\"Raw data saved as 'raw_noaa_data.csv'\")\n"
      ],
      "metadata": {
        "colab": {
          "base_uri": "https://localhost:8080/"
        },
        "id": "t_apj5L2FbeF",
        "outputId": "e80a5c61-ddda-4f99-c830-e6ee17addab3"
      },
      "execution_count": 17,
      "outputs": [
        {
          "output_type": "stream",
          "name": "stdout",
          "text": [
            "Raw data saved as 'raw_noaa_data.csv'\n"
          ]
        }
      ]
    },
    {
      "cell_type": "code",
      "source": [
        "from google.colab import drive\n",
        "drive.mount('/content/drive')\n",
        "\n",
        "# Save the raw data to your Google Drive (update the path as needed)\n",
        "df.to_csv('/content/drive/MyDrive/raw_noaa_data.csv', index=False)\n",
        "print(\"Raw data saved to Google Drive as 'raw_noaa_data.csv'\")\n"
      ],
      "metadata": {
        "colab": {
          "base_uri": "https://localhost:8080/"
        },
        "id": "ZeqKRWlhFu-h",
        "outputId": "851c9168-9b3a-4c10-8e88-ee60b12553df"
      },
      "execution_count": 18,
      "outputs": [
        {
          "output_type": "stream",
          "name": "stdout",
          "text": [
            "Mounted at /content/drive\n",
            "Raw data saved to Google Drive as 'raw_noaa_data.csv'\n"
          ]
        }
      ]
    },
    {
      "cell_type": "code",
      "source": [
        "!git clone https://github.com/aa23amd/NOAA-DATASET-CSV.git"
      ],
      "metadata": {
        "colab": {
          "base_uri": "https://localhost:8080/"
        },
        "id": "fBxnqFg-MZ-Z",
        "outputId": "66c54125-7bb2-4a47-9be9-560e34c307b9"
      },
      "execution_count": 23,
      "outputs": [
        {
          "output_type": "stream",
          "name": "stdout",
          "text": [
            "Cloning into 'NOAA-DATASET-CSV'...\n",
            "remote: Enumerating objects: 19, done.\u001b[K\n",
            "remote: Counting objects: 100% (19/19), done.\u001b[K\n",
            "remote: Compressing objects: 100% (18/18), done.\u001b[K\n",
            "remote: Total 19 (delta 3), reused 0 (delta 0), pack-reused 0 (from 0)\u001b[K\n",
            "Receiving objects: 100% (19/19), 9.46 KiB | 9.46 MiB/s, done.\n",
            "Resolving deltas: 100% (3/3), done.\n"
          ]
        }
      ]
    },
    {
      "cell_type": "code",
      "source": [
        "%cd NOAA-DATASET-CSV"
      ],
      "metadata": {
        "colab": {
          "base_uri": "https://localhost:8080/"
        },
        "id": "AmcllLhCUjTe",
        "outputId": "5296c37f-7214-43b2-9966-b966b64feb02"
      },
      "execution_count": 24,
      "outputs": [
        {
          "output_type": "stream",
          "name": "stdout",
          "text": [
            "/content/NOAA-DATASET-CSV\n"
          ]
        }
      ]
    },
    {
      "cell_type": "code",
      "source": [
        "!git pull\n"
      ],
      "metadata": {
        "colab": {
          "base_uri": "https://localhost:8080/"
        },
        "id": "6ekgGsHsU9ql",
        "outputId": "d5e215e3-eba2-4766-ff35-8c8e6b3963fd"
      },
      "execution_count": 25,
      "outputs": [
        {
          "output_type": "stream",
          "name": "stdout",
          "text": [
            "Already up to date.\n"
          ]
        }
      ]
    }
  ]
}