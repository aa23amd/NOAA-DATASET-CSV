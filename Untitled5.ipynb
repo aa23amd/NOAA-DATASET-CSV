{
  "nbformat": 4,
  "nbformat_minor": 0,
  "metadata": {
    "colab": {
      "provenance": [],
      "authorship_tag": "ABX9TyNWlID6OIpCjqs4Sv1W+4IG",
      "include_colab_link": true
    },
    "kernelspec": {
      "name": "python3",
      "display_name": "Python 3"
    },
    "language_info": {
      "name": "python"
    }
  },
  "cells": [
    {
      "cell_type": "markdown",
      "metadata": {
        "id": "view-in-github",
        "colab_type": "text"
      },
      "source": [
        "<a href=\"https://colab.research.google.com/github/aa23amd/NOAA-DATASET-CSV/blob/main/Untitled5.ipynb\" target=\"_parent\"><img src=\"https://colab.research.google.com/assets/colab-badge.svg\" alt=\"Open In Colab\"/></a>"
      ]
    },
    {
      "cell_type": "code",
      "execution_count": 1,
      "metadata": {
        "id": "3rfr-7QIcUe6"
      },
      "outputs": [],
      "source": [
        "import requests\n",
        "import pandas as pd\n",
        "from datetime import datetime, timedelta\n",
        "\n",
        "# NOAA API token and parameters\n",
        "API_TOKEN = 'meMJNjoRWdehUATKDiEJKsGcmCjJaUtN'  # Replace with your actual token\n",
        "DATASET_ID = 'GHCND'  # Daily Summaries\n",
        "LOCATION_ID = 'FIPS:37'  # Example: North Carolina\n",
        "\n",
        "# Define the overall date range (choose a period with multiple days)\n",
        "overall_start = datetime(2022, 1, 1)\n",
        "overall_end = datetime(2022, 6, 30)  # 6 months, for example\n",
        "\n",
        "# Set the maximum allowed interval (NOAA requires less than one year)\n",
        "# We'll use a 30-day interval for each request.\n",
        "interval_days = 30\n"
      ]
    },
    {
      "cell_type": "code",
      "source": [
        "def fetch_noaa_data(start_date, end_date, dataset_id, location_id, token, limit=1000):\n",
        "    url = 'https://www.ncdc.noaa.gov/cdo-web/api/v2/data'\n",
        "    headers = {'token': token}\n",
        "    params = {\n",
        "        'datasetid': dataset_id,\n",
        "        'locationid': location_id,\n",
        "        'startdate': start_date.strftime('%Y-%m-%d'),\n",
        "        'enddate': end_date.strftime('%Y-%m-%d'),\n",
        "        'limit': limit\n",
        "    }\n",
        "\n",
        "    response = requests.get(url, headers=headers, params=params)\n",
        "\n",
        "    if response.status_code == 200:\n",
        "        data = response.json()\n",
        "        return data.get('results', [])\n",
        "    else:\n",
        "        print(f\"Error: {response.status_code} for {start_date.date()} to {end_date.date()}\")\n",
        "        return []\n"
      ],
      "metadata": {
        "id": "IKjkGEWicmhV"
      },
      "execution_count": 2,
      "outputs": []
    },
    {
      "cell_type": "code",
      "source": [
        "all_data = []\n",
        "current_start = overall_start\n",
        "\n",
        "while current_start < overall_end:\n",
        "    # Set current_end to current_start + interval_days, not exceeding overall_end\n",
        "    current_end = min(current_start + timedelta(days=interval_days - 1), overall_end)\n",
        "\n",
        "    print(f\"Fetching data from {current_start.date()} to {current_end.date()} ...\")\n",
        "    interval_data = fetch_noaa_data(current_start, current_end, DATASET_ID, LOCATION_ID, API_TOKEN)\n",
        "    print(f\"Records fetched in this interval: {len(interval_data)}\")\n",
        "    all_data.extend(interval_data)\n",
        "\n",
        "    # Move to the next interval (the day after current_end)\n",
        "    current_start = current_end + timedelta(days=1)\n",
        "\n",
        "print(f\"Total records collected: {len(all_data)}\")\n"
      ],
      "metadata": {
        "colab": {
          "base_uri": "https://localhost:8080/"
        },
        "id": "UMYrQCsOcrtm",
        "outputId": "5fff8019-cd44-461e-e163-801cd39eb94b"
      },
      "execution_count": 3,
      "outputs": [
        {
          "output_type": "stream",
          "name": "stdout",
          "text": [
            "Fetching data from 2022-01-01 to 2022-01-30 ...\n",
            "Records fetched in this interval: 1000\n",
            "Fetching data from 2022-01-31 to 2022-03-01 ...\n",
            "Records fetched in this interval: 1000\n",
            "Fetching data from 2022-03-02 to 2022-03-31 ...\n",
            "Records fetched in this interval: 1000\n",
            "Fetching data from 2022-04-01 to 2022-04-30 ...\n",
            "Records fetched in this interval: 1000\n",
            "Fetching data from 2022-05-01 to 2022-05-30 ...\n",
            "Records fetched in this interval: 1000\n",
            "Fetching data from 2022-05-31 to 2022-06-29 ...\n",
            "Records fetched in this interval: 1000\n",
            "Total records collected: 6000\n"
          ]
        }
      ]
    },
    {
      "cell_type": "code",
      "source": [
        "# Convert to DataFrame\n",
        "raw_df = pd.DataFrame(all_data)\n",
        "print(\"Raw DataFrame shape:\", raw_df.shape)\n",
        "print(raw_df.head())\n",
        "\n",
        "# Convert 'date' to datetime and check unique dates\n",
        "raw_df['date'] = pd.to_datetime(raw_df['date'], errors='coerce')\n",
        "unique_dates = raw_df['date'].dt.date.unique()\n",
        "print(f\"Unique dates in raw data: {len(unique_dates)}\")\n",
        "print(unique_dates[:10])\n"
      ],
      "metadata": {
        "colab": {
          "base_uri": "https://localhost:8080/"
        },
        "id": "0p7yt9BFcz5J",
        "outputId": "ee2a02af-8a4f-4c30-b79e-04b84ca13b79"
      },
      "execution_count": 4,
      "outputs": [
        {
          "output_type": "stream",
          "name": "stdout",
          "text": [
            "Raw DataFrame shape: (6000, 5)\n",
            "                  date datatype            station attributes  value\n",
            "0  2022-01-01T00:00:00     PRCP  GHCND:US1NCAG0001   ,,N,0738      3\n",
            "1  2022-01-01T00:00:00     SNOW  GHCND:US1NCAG0001   ,,N,0738      0\n",
            "2  2022-01-01T00:00:00     WESD  GHCND:US1NCAG0001   ,,N,0738      0\n",
            "3  2022-01-01T00:00:00     WESF  GHCND:US1NCAG0001   ,,N,0738      0\n",
            "4  2022-01-01T00:00:00     PRCP  GHCND:US1NCAG0005   ,,N,0700      8\n",
            "Unique dates in raw data: 6\n",
            "[datetime.date(2022, 1, 1) datetime.date(2022, 1, 31)\n",
            " datetime.date(2022, 3, 2) datetime.date(2022, 4, 1)\n",
            " datetime.date(2022, 5, 1) datetime.date(2022, 5, 31)]\n"
          ]
        }
      ]
    },
    {
      "cell_type": "code",
      "source": [
        "raw_df.to_csv('raw_noaa_data.csv', index=False)\n",
        "print(\"Raw data saved as 'raw_noaa_data.csv'\")\n"
      ],
      "metadata": {
        "colab": {
          "base_uri": "https://localhost:8080/"
        },
        "id": "iZo54FGKc72F",
        "outputId": "c07dcdbf-7a16-4486-bdc3-185d78ae06b3"
      },
      "execution_count": 5,
      "outputs": [
        {
          "output_type": "stream",
          "name": "stdout",
          "text": [
            "Raw data saved as 'raw_noaa_data.csv'\n"
          ]
        }
      ]
    }
  ]
}